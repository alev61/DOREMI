{
  "nbformat": 4,
  "nbformat_minor": 0,
  "metadata": {
    "kernelspec": {
      "display_name": "Python 3",
      "language": "python",
      "name": "python3"
    },
    "language_info": {
      "codemirror_mode": {
        "name": "ipython",
        "version": 3
      },
      "file_extension": ".py",
      "mimetype": "text/x-python",
      "name": "python",
      "nbconvert_exporter": "python",
      "pygments_lexer": "ipython3",
      "version": "3.7.6"
    },
    "colab": {
      "name": "REMI MIDI Encoder.ipynb",
      "provenance": [],
      "toc_visible": true,
      "include_colab_link": true
    }
  },
  "cells": [
    {
      "cell_type": "markdown",
      "metadata": {
        "id": "view-in-github",
        "colab_type": "text"
      },
      "source": [
        "<a href=\"https://colab.research.google.com/github/asigalov61/DOREMI/blob/main/REMI_MIDI_Encoder.ipynb\" target=\"_parent\"><img src=\"https://colab.research.google.com/assets/colab-badge.svg\" alt=\"Open In Colab\"/></a>"
      ]
    },
    {
      "cell_type": "code",
      "metadata": {
        "id": "H2-v7awNSiPp"
      },
      "source": [
        "!pip install miditoolkit\n",
        "import miditoolkit\n",
        "!git clone https://github.com/asigalov61/remi.git\n",
        "import os\n",
        "os.environ['CUDA_VISIBLE_DEVICES'] = '0'\n",
        "os.chdir('remi')\n",
        "\n",
        "import utils"
      ],
      "execution_count": null,
      "outputs": []
    },
    {
      "cell_type": "code",
      "metadata": {
        "id": "m054X5rd2ARx"
      },
      "source": [
        "#@title (Best Choice/Works best stand-alone) Alex Piano Only Drafts Original 1500 MIDIs \n",
        "!wget 'https://github.com/asigalov61/AlexMIDIDataSet/raw/master/AlexMIDIDataSet-CC-BY-NC-SA-All-Drafts-Piano-Only.zip'\n",
        "!unzip -j 'AlexMIDIDataSet-CC-BY-NC-SA-All-Drafts-Piano-Only.zip'"
      ],
      "execution_count": null,
      "outputs": []
    },
    {
      "cell_type": "code",
      "metadata": {
        "id": "kK3lIu8l0ae3"
      },
      "source": [
        "def get_events_from_midis(midipath):\n",
        "  note_items, tempo_items = utils.read_items(str(midipath))\n",
        "  note_items = utils.quantize_items(note_items)\n",
        "  chord_items = utils.extract_chords(note_items)\n",
        "  items = chord_items + tempo_items + note_items\n",
        "  max_time = note_items[-1].end\n",
        "  groups = utils.group_items(items, max_time)\n",
        "  midievents = utils.item2event(groups)\n",
        "  return midievents"
      ],
      "execution_count": null,
      "outputs": []
    },
    {
      "cell_type": "code",
      "metadata": {
        "id": "RSzbPdk0zkRc"
      },
      "source": [
        "#@title Calculate Number of Indexable MIDI files :)\n",
        "import os\n",
        "from os import listdir\n",
        "from os.path import isfile, join\n",
        "\n",
        "# Modify these paths to your own paths to MAESTRO dataset\n",
        "maestro_dir = '/content/remi'\n",
        "\n",
        "data_dirs = ['/content/remi']\n",
        "\n",
        "data_files = []\n",
        "for data_dir in data_dirs:\n",
        "    data_files += [join(data_dir, f) for f in listdir(data_dir) if isfile(join(data_dir, f)) if 'mid' in f] # MIDI files can have MIDI and MID extensions. Remove/comment the one you do not need/use\n",
        "\n",
        "data_files.sort()\n",
        "\n",
        "print('total midi/mid files : ', len(data_files))"
      ],
      "execution_count": null,
      "outputs": []
    },
    {
      "cell_type": "code",
      "metadata": {
        "id": "XeA69rEozbXn"
      },
      "source": [
        "from tqdm import tqdm_notebook as tqdm\n",
        "import os\n",
        "import numpy as np\n",
        "\n",
        "dataset_dir = 'dataset'\n",
        "\n",
        "if not os.path.exists(dataset_dir):\n",
        "    os.makedirs(dataset_dir)\n",
        "\n",
        "for i in tqdm(range(len(data_files))):\n",
        "    print(data_files[i])\n",
        "    eventlist = get_events_from_midis(data_files[i])\n",
        "    #eventlist = events\n",
        "    print(eventlist)\n",
        "    \n",
        "    save_file = dataset_dir + '/' + str(i)\n",
        "    data = {'eventlist': eventlist}\n",
        "    np.savez(save_file, **data, allow_pickle=False)\n",
        "    #np.savetxt(save_file, eventlist, delimiter=',')"
      ],
      "execution_count": null,
      "outputs": []
    }
  ]
}